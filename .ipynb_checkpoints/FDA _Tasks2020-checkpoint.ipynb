{
 "cells": [
  {
   "cell_type": "markdown",
   "metadata": {},
   "source": [
    "# Tasks 2020\n",
    "Task submissions for October - December 2020\n",
    "***\n"
   ]
  },
  {
   "cell_type": "markdown",
   "metadata": {},
   "source": [
    "### Task 1\n",
    "Write a Python function called counts that takes a list as input and returns a dictionary of unique items in the list as keys and the number of times each item appears as values\n",
    "*** \n",
    "* For this task I write a function `counts` which takes a list as an argument [1]\n",
    "* Within `counts` I create an empty dictionary `d`\n",
    "* Next I use a `for` loop to iterate over the list, adding a list-item to the dictionary on each iteration\n",
    "* Within the `for` loop I use conditional statements to determine whether a new key-value pair should be added to the dictionary. If the key exists already, its corresponding value increases by 1\n",
    "* When the `for` loop ends, the dictionary containing the list items is returned\n",
    "* Finally, I call the function and print the returned dictionary to the console\n",
    "\n",
    "\n",
    "\n",
    "[1] How to add list elements into dictionary https://stackoverflow.com/questions/30208044/how-to-add-list-elements-into-dictionary"
   ]
  },
  {
   "cell_type": "code",
   "execution_count": 1,
   "metadata": {},
   "outputs": [],
   "source": [
    "# sample list as suggested in task question\n",
    "l = ['A', 'A', 'B', 'C', 'A']"
   ]
  },
  {
   "cell_type": "code",
   "execution_count": 2,
   "metadata": {},
   "outputs": [],
   "source": [
    "# counts() function takes a list as an argument and adds list items to dictionary\n",
    "def counts(lst):\n",
    "    # empy dictionary d initialised \n",
    "    d = {}\n",
    "    # iterate through list items and add to dict d\n",
    "    for item in lst:\n",
    "        if item in d:\n",
    "            d[item] += 1\n",
    "        else:\n",
    "            d[item] = 1\n",
    "    return d"
   ]
  },
  {
   "cell_type": "code",
   "execution_count": 3,
   "metadata": {},
   "outputs": [
    {
     "name": "stdout",
     "output_type": "stream",
     "text": [
      "{'A': 3, 'B': 1, 'C': 1}\n"
     ]
    }
   ],
   "source": [
    "# call function and print to console\n",
    "print(counts(l))"
   ]
  },
  {
   "cell_type": "markdown",
   "metadata": {},
   "source": [
    "### Task 2\n",
    "Write a Python function calleddicerollsthat simulatesrolling dice.  Your function should take two parameters:  the number of dicekandthe number of times to roll the dicen.  The function should simulate randomlyrollingkdicentimes, keeping track of each total face value.  It should then returna dictionary with the number of times each possible total face value occurred.  So,calling the function asdiceroll(k=2, n=1000)should return a dictionary like:{2:19,3:50,4:82,5:112,6:135,7:174,8:133,9:114,10:75,11:70,12:36}You can use any module from the Python standard library you wish and you shouldinclude a description with references of your algorithm in the notebook."
   ]
  },
  {
   "cell_type": "code",
   "execution_count": 4,
   "metadata": {},
   "outputs": [],
   "source": [
    "import numpy as np\n",
    "import matplotlib.pyplot as plt"
   ]
  },
  {
   "cell_type": "code",
   "execution_count": 5,
   "metadata": {},
   "outputs": [
    {
     "data": {
      "text/plain": [
       "5"
      ]
     },
     "execution_count": 5,
     "metadata": {},
     "output_type": "execute_result"
    }
   ],
   "source": [
    "rng = np.random.default_rng()\n",
    "\n",
    "dice1 = rng.integers(1, 7)\n",
    "dice2 = rng.integers(1, 7)\n",
    "dice1 + dice2"
   ]
  },
  {
   "cell_type": "code",
   "execution_count": 6,
   "metadata": {},
   "outputs": [
    {
     "name": "stdout",
     "output_type": "stream",
     "text": [
      "[2, 4, 6, 6, 3]\n"
     ]
    }
   ],
   "source": [
    "l = []\n",
    "n = 5\n",
    "i = 0\n",
    "for i in range(0, n):\n",
    "    dice3 = rng.integers(1, 7)\n",
    "    l.append(dice3)\n",
    "    i += 1\n",
    "print(l)\n"
   ]
  },
  {
   "cell_type": "code",
   "execution_count": 21,
   "metadata": {},
   "outputs": [],
   "source": [
    "def dicerolls(n):\n",
    "    l = []\n",
    "    for i in range(n):\n",
    "        dice1 = rng.integers(1, 7)\n",
    "        dice2 = rng.integers(1, 7)\n",
    "        ans = dice1 + dice2\n",
    "        l.append(ans)\n",
    "        i += 1\n",
    "    return l"
   ]
  },
  {
   "cell_type": "code",
   "execution_count": 25,
   "metadata": {},
   "outputs": [],
   "source": [
    "result = dicerolls(10000)"
   ]
  },
  {
   "cell_type": "code",
   "execution_count": 31,
   "metadata": {},
   "outputs": [
    {
     "name": "stdout",
     "output_type": "stream",
     "text": [
      "[(2, 312), (3, 587), (4, 836), (5, 1068), (6, 1386), (7, 1680), (8, 1363), (9, 1118), (10, 846), (11, 528), (12, 276)]\n"
     ]
    }
   ],
   "source": [
    "dick = (counts(result))\n",
    "dick_items = dick.items()\n",
    "sorted_dick = sorted(dick_items)\n",
    "print(sorted_dick)"
   ]
  },
  {
   "cell_type": "code",
   "execution_count": 30,
   "metadata": {},
   "outputs": [
    {
     "data": {
      "text/plain": [
       "(array([ 312.,  587.,  836., 1068., 1386., 1680., 1363., 1118.,  846.,\n",
       "         528.,  276.]),\n",
       " array([ 2.        ,  2.90909091,  3.81818182,  4.72727273,  5.63636364,\n",
       "         6.54545455,  7.45454545,  8.36363636,  9.27272727, 10.18181818,\n",
       "        11.09090909, 12.        ]),\n",
       " <a list of 11 Patch objects>)"
      ]
     },
     "execution_count": 30,
     "metadata": {},
     "output_type": "execute_result"
    },
    {
     "data": {
      "image/png": "[encoded data removed]",
      "text/plain": [
       "<Figure size 432x288 with 1 Axes>"
      ]
     },
     "metadata": {
      "needs_background": "light"
     },
     "output_type": "display_data"
    }
   ],
   "source": [
    "plt.hist(result, bins=11)"
   ]
  },
  {
   "cell_type": "code",
   "execution_count": null,
   "metadata": {},
   "outputs": [],
   "source": []
  }
 ],
 "metadata": {
  "kernelspec": {
   "display_name": "Python 3",
   "language": "python",
   "name": "python3"
  },
  "language_info": {
   "codemirror_mode": {
    "name": "ipython",
    "version": 3
   },
   "file_extension": ".py",
   "mimetype": "text/x-python",
   "name": "python",
   "nbconvert_exporter": "python",
   "pygments_lexer": "ipython3",
   "version": "3.8.3"
  }
 },
 "nbformat": 4,
 "nbformat_minor": 4
}
