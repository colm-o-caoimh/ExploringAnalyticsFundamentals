{
 "cells": [
  {
   "cell_type": "markdown",
   "metadata": {},
   "source": [
    "# Tasks 2020\n",
    "Task submissions for October - December 2020\n",
    "***\n"
   ]
  },
  {
   "cell_type": "markdown",
   "metadata": {},
   "source": [
    "### Task 1\n",
    "Write a Python function called counts that takes a list as input and returns a dictionary of unique items in the list as keys and the number of times each item appears as values\n",
    "*** \n",
    "* For this task I write a function `counts` which takes a list as an argument [1]\n",
    "* Within `counts` I create an empty dictionary `d`\n",
    "* Next I use a `for` loop to iterate over the list, adding a list-item to the dictionary on each iteration\n",
    "* Within the `for` loop I use conditional statements to determine whether a new key-value pair should be added to the dictionary. If the key exists already, its corresponding value increases by 1\n",
    "* When the `for` loop ends, the dictionary containing the list items is returned\n",
    "* Finally, I call the function and print the returned dictionary to the console\n",
    "\n",
    "\n",
    "\n",
    "[1] How to add list elements into dictionary https://stackoverflow.com/questions/30208044/how-to-add-list-elements-into-dictionary"
   ]
  },
  {
   "cell_type": "code",
   "execution_count": 1,
   "metadata": {},
   "outputs": [],
   "source": [
    "# sample list as suggested in task question\n",
    "l = ['A', 'A', 'B', 'C', 'A']"
   ]
  },
  {
   "cell_type": "code",
   "execution_count": 2,
   "metadata": {},
   "outputs": [],
   "source": [
    "# counts() function takes a list as an argument and adds list items to dictionary\n",
    "def counts(lst):\n",
    "    # empy dictionary d initialised \n",
    "    d = {}\n",
    "    # iterate through list items and add to dict d\n",
    "    for item in lst:\n",
    "        if item in d:\n",
    "            d[item] += 1\n",
    "        else:\n",
    "            d[item] = 1\n",
    "    return d"
   ]
  },
  {
   "cell_type": "code",
   "execution_count": 3,
   "metadata": {},
   "outputs": [
    {
     "name": "stdout",
     "output_type": "stream",
     "text": [
      "{'A': 3, 'B': 1, 'C': 1}\n"
     ]
    }
   ],
   "source": [
    "# call function and print to console\n",
    "print(counts(l))"
   ]
  }
 ],
 "metadata": {
  "kernelspec": {
   "display_name": "Python 3",
   "language": "python",
   "name": "python3"
  },
  "language_info": {
   "codemirror_mode": {
    "name": "ipython",
    "version": 3
   },
   "file_extension": ".py",
   "mimetype": "text/x-python",
   "name": "python",
   "nbconvert_exporter": "python",
   "pygments_lexer": "ipython3",
   "version": "3.8.3"
  }
 },
 "nbformat": 4,
 "nbformat_minor": 4
}
