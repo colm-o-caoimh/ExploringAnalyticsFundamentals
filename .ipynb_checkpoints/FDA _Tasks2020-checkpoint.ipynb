{
 "cells": [
  {
   "cell_type": "markdown",
   "metadata": {},
   "source": [
    "# Tasks 2020\n",
    "Task submissions for October - December 2020\n",
    "***\n"
   ]
  },
  {
   "cell_type": "markdown",
   "metadata": {},
   "source": [
    "### Task 1\n",
    "Write a Python function called counts that takes a list as input and returns a dictionary of unique items in the list as keys and the number of times each item appears as values\n",
    "*** \n",
    "* For this task I write a function `counts` which takes a list as an argument [1]\n",
    "* Within `counts` I create an empty dictionary `d`\n",
    "* Next I use a `for` loop to iterate over the list, adding a list-item to the dictionary on each iteration\n",
    "* Within the `for` loop I use conditional statements to determine whether a new key-value pair should be added to the dictionary. If the key exists already, its corresponding value increases by 1\n",
    "* When the `for` loop ends, the dictionary containing the list items is returned\n",
    "* Finally, I call the function and print the returned dictionary to the console\n",
    "\n",
    "\n",
    "\n",
    "[1] How to add list elements into dictionary https://stackoverflow.com/questions/30208044/how-to-add-list-elements-into-dictionary"
   ]
  },
  {
   "cell_type": "code",
   "execution_count": 1,
   "metadata": {},
   "outputs": [],
   "source": [
    "# sample list as suggested in task question\n",
    "l = ['A', 'A', 'B', 'C', 'A']"
   ]
  },
  {
   "cell_type": "code",
   "execution_count": 2,
   "metadata": {},
   "outputs": [],
   "source": [
    "# counts() function takes a list as an argument and adds list items to dictionary\n",
    "def counts(lst):\n",
    "    # empy dictionary d initialised \n",
    "    d = {}\n",
    "    # iterate through list items and add to dict d\n",
    "    for item in lst:\n",
    "        if item in d:\n",
    "            d[item] += 1\n",
    "        else:\n",
    "            d[item] = 1\n",
    "    return d"
   ]
  },
  {
   "cell_type": "code",
   "execution_count": 3,
   "metadata": {},
   "outputs": [
    {
     "name": "stdout",
     "output_type": "stream",
     "text": [
      "{'A': 3, 'B': 1, 'C': 1}\n"
     ]
    }
   ],
   "source": [
    "# call function and print to console\n",
    "print(counts(l))"
   ]
  },
  {
   "cell_type": "markdown",
   "metadata": {},
   "source": [
    "#### End\n",
    "***\n",
    "<br>"
   ]
  },
  {
   "cell_type": "markdown",
   "metadata": {},
   "source": [
    "<br>\n",
    "\n",
    "### Task 2\n",
    "Write a Python function called dicerolls that simulates rolling dice. Your function should take two parameters: the number of dice k and the number of times to roll the dice n. The function should simulate randomly rolling k dice n times, keeping track of each total face value.  It should then return a dictionary with the number of times each possible total face value occurred.\n",
    "***\n",
    "* As requested by the task, the function takes two parameters: k (no. of dice) and n (no. of rolls). \n",
    "* I have used nested for loops to carry out the simulation [1]. \n",
    "* The outer loop simulates the number of times the dice are rolled while the inner loop simulates the number of dice.\n",
    "* To simulate a random roll of a single die, I use the `integers()` function from `numpy.random` package\n",
    "* On every iteration of the outer loop (n dice rolls), the inner loop runs k times (no. of dice)\n",
    "* The results of each iteration of the inner loop are appended to list l (initialised as an empty list within the function)\n",
    "* I use the function from Task 1 (above) to add each list item to dictionary d (initialised as an empty dictionary within the function)\n",
    "* The function returns a sorted dictionary. I found the code for this on a discussion on stackoverflow.com [2]\n",
    "* I call the `dicerolls()` 4 times. First with 2 dice, then 3, 4 and 5. The dice are rolled 100,000 times on each functon call. I plot the resuls of each bar charts. To plot a dictionary on a bar chart, I used code found on a stackoverflow.com discussion [3].\n",
    "* From the bar charts, it is clear that the results are normally distributed, with the curve becoming increasingly rounded the more dice are thrown.\n",
    "\n",
    "\n",
    "\n",
    "[1] w3schools; Python Nested Loops; https://www.w3schools.com/python/gloss_python_for_nested.asp <br>\n",
    "[2] https://stackoverflow.com/questions/9001509/how-can-i-sort-a-dictionary-by-key%22 <br>\n",
    "[3] https://stackoverflow.com/questions/21195179/plot-a-histogram-from-a-dictionary <br>"
   ]
  },
  {
   "cell_type": "markdown",
   "metadata": {},
   "source": [
    "<br>\n",
    "\n",
    "#### Build function and run simulation"
   ]
  },
  {
   "cell_type": "code",
   "execution_count": 4,
   "metadata": {},
   "outputs": [],
   "source": [
    "# import default_rng for random number generation, matplotlib.pyplot for visualisation\n",
    "from numpy.random import default_rng\n",
    "import matplotlib.pyplot as plt"
   ]
  },
  {
   "cell_type": "code",
   "execution_count": 5,
   "metadata": {},
   "outputs": [],
   "source": [
    "# construct a new Generator object\n",
    "rng = default_rng()"
   ]
  },
  {
   "cell_type": "code",
   "execution_count": 6,
   "metadata": {},
   "outputs": [],
   "source": [
    "def dicerolls(k, n):\n",
    "    l = [] # initialise empty list\n",
    "    d = {} # initialise empty dict\n",
    "    for roll in range(n): # outer loop simulates no. of times dice are rolled\n",
    "        dice_sum = 0 # dice_sum counter set to 0\n",
    "        for die in range(k): # inner loop simulates each of k dice thrown at random\n",
    "            dice = rng.integers(1, 7)\n",
    "            dice_sum += dice # face value of each dice added together\n",
    "        l.append(dice_sum) \n",
    "    d = counts(l) # function from Task 1 called\n",
    "    return dict(sorted(d.items()))"
   ]
  },
  {
   "cell_type": "code",
   "execution_count": 7,
   "metadata": {},
   "outputs": [
    {
     "data": {
      "text/plain": [
       "{2: 2812,\n",
       " 3: 5533,\n",
       " 4: 8462,\n",
       " 5: 11054,\n",
       " 6: 14022,\n",
       " 7: 16378,\n",
       " 8: 13908,\n",
       " 9: 10988,\n",
       " 10: 8488,\n",
       " 11: 5580,\n",
       " 12: 2775}"
      ]
     },
     "execution_count": 7,
     "metadata": {},
     "output_type": "execute_result"
    }
   ],
   "source": [
    "# 2 dice rolled 100,000 times and dictionary output\n",
    "two_dice = dicerolls(2, 100000)\n",
    "two_dice"
   ]
  },
  {
   "cell_type": "markdown",
   "metadata": {},
   "source": [
    "<br>\n",
    "\n",
    "#### Plot output: Different numbers of dice"
   ]
  },
  {
   "cell_type": "code",
   "execution_count": 19,
   "metadata": {},
   "outputs": [
    {
     "data": {
      "text/plain": [
       "Text(0.5, 1.0, '5 dice')"
      ]
     },
     "execution_count": 19,
     "metadata": {},
     "output_type": "execute_result"
    },
    {
     "data": {
      "image/png": "[encoded data removed]",
      "text/plain": [
       "<Figure size 720x504 with 4 Axes>"
      ]
     },
     "metadata": {
      "needs_background": "light"
     },
     "output_type": "display_data"
    }
   ],
   "source": [
    "plt.figure(figsize=(10, 7))\n",
    "\n",
    "plt.subplot(221)\n",
    "plt.bar(list(two_dice.keys()), two_dice.values())\n",
    "plt.title('2 dice')\n",
    "\n",
    "three_dice = dicerolls(3, 100000)\n",
    "plt.subplot(222)\n",
    "plt.bar(list(three_dice.keys()), three_dice.values())\n",
    "plt.title('3 dice')\n",
    "\n",
    "four_dice = dicerolls(4, 100000)\n",
    "plt.subplot(223)\n",
    "plt.bar(list(four_dice.keys()), four_dice.values())\n",
    "plt.title('4 dice')\n",
    "\n",
    "five_dice = dicerolls(5, 100000)\n",
    "plt.subplot(224)\n",
    "plt.bar(list(five_dice.keys()), five_dice.values())\n",
    "plt.title('5 dice')"
   ]
  },
  {
   "cell_type": "markdown",
   "metadata": {},
   "source": [
    "#### End"
   ]
  },
  {
   "cell_type": "code",
   "execution_count": null,
   "metadata": {},
   "outputs": [],
   "source": []
  }
 ],
 "metadata": {
  "kernelspec": {
   "display_name": "Python 3",
   "language": "python",
   "name": "python3"
  },
  "language_info": {
   "codemirror_mode": {
    "name": "ipython",
    "version": 3
   },
   "file_extension": ".py",
   "mimetype": "text/x-python",
   "name": "python",
   "nbconvert_exporter": "python",
   "pygments_lexer": "ipython3",
   "version": "3.8.3"
  }
 },
 "nbformat": 4,
 "nbformat_minor": 4
}
