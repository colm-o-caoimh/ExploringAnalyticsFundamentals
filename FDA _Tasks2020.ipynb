{
 "cells": [
  {
   "cell_type": "markdown",
   "metadata": {},
   "source": [
    "# Tasks 2020\n",
    "Task submissions for October - December 2020\n",
    "***\n"
   ]
  },
  {
   "cell_type": "markdown",
   "metadata": {},
   "source": [
    "### Task 1\n",
    "Write a Python function called counts that takes a list as input and returns a dictionary of unique items in the list as keys and the number of times each item appears as values\n",
    "*** \n",
    "* For this task I write a function `counts` which takes a list as an argument\n",
    "* There are a number of possible methods which add lists to dictionaries, such as using list comrehensions as well and through the importation of modules (`collections` module) amongst others. This blog post at geesforgeeks.org details some of these [1]\n",
    "* I found the simplest and most useful solution on stackoverflow.com which I demonstrate below [2]. This method is also suggested at kite.com [3] <br>\n",
    "<br>\n",
    "\n",
    "##### Function description\n",
    "* Inside the `counts` function I create an empty dictionary `d`\n",
    "* Next I use a `for` loop to iterate over the list, adding a list-item to the dictionary on each iteration\n",
    "* Inside the `for` loop I use conditional statements to determine whether a new key-value pair should be added to the dictionary. If the key exists already, its corresponding value increases by 1\n",
    "* When the `for` loop ends, the dictionary containing the list items is returned\n",
    "* Finally, I call the function and print the returned dictionary to the console\n",
    "<br>\n",
    "\n",
    "\n",
    "\n"
   ]
  },
  {
   "cell_type": "markdown",
   "metadata": {},
   "source": [
    "<br>\n",
    "\n",
    "### References\n",
    "\n",
    "[1] geeksforgeeks.com; Python | Ways to create a dictionary of Lists; https://www.geeksforgeeks.org/python-ways-to-create-a-dictionary-of-lists/ <br>\n",
    "[2] stackoverflow.com; How to add list elements into dictionary https://stackoverflow.com/questions/30208044/how-to-add-list-elements-into-dictionary<br>\n",
    "[3] kite.com; How to append an element to a key in a dictionary with Python; https://www.kite.com/python/answers/how-to-append-an-element-to-a-key-in-a-dictionary-with-python <br>"
   ]
  },
  {
   "cell_type": "markdown",
   "metadata": {},
   "source": [
    "<br>\n",
    "\n",
    "***\n"
   ]
  },
  {
   "cell_type": "markdown",
   "metadata": {},
   "source": [
    "**Function code**"
   ]
  },
  {
   "cell_type": "code",
   "execution_count": 1,
   "metadata": {},
   "outputs": [],
   "source": [
    "# create a simple list of 5 elements\n",
    "l = ['A', 'A', 'B', 'C', 'A']"
   ]
  },
  {
   "cell_type": "code",
   "execution_count": 2,
   "metadata": {},
   "outputs": [],
   "source": [
    "'''\n",
    "This function takes a list as an argument and adds list items to a dictionary\n",
    "'''\n",
    "\n",
    "def counts(lst):\n",
    "    # empy dictionary d initialised \n",
    "    d = {}\n",
    "    # iterate through list items and add to dict d\n",
    "    for item in lst:\n",
    "        if item in d:\n",
    "            d[item] += 1\n",
    "        else:\n",
    "            d[item] = 1\n",
    "    return d"
   ]
  },
  {
   "cell_type": "code",
   "execution_count": 3,
   "metadata": {},
   "outputs": [
    {
     "name": "stdout",
     "output_type": "stream",
     "text": [
      "{'A': 3, 'B': 1, 'C': 1}\n"
     ]
    }
   ],
   "source": [
    "# call function and print to console\n",
    "print(counts(l))"
   ]
  },
  {
   "cell_type": "markdown",
   "metadata": {},
   "source": [
    "#### End task 1\n",
    "***\n",
    "<br>"
   ]
  },
  {
   "cell_type": "markdown",
   "metadata": {},
   "source": [
    "<br>\n",
    "\n",
    "### Task 2\n",
    "Write a Python function called `dicerolls()` that simulates rolling dice. Your function should take two parameters: the number of dice *k* and the number of times to roll the dice *n*. The function should simulate randomly rolling *k* dice *n* times, keeping track of each total face value.  It should then return a dictionary with the number of times each possible total face value occurred.\n",
    "***\n",
    "* As requested by the task, the function takes two parameters: k (no. of dice) and n (no. of rolls). \n",
    "* I have used nested for loops to carry out the simulation. I have based the algorithm used on useful information about nested loops at w3schools.com [1]. \n",
    "* The outer loop simulates the number of times the dice are rolled while the inner loop simulates the number of dice.\n",
    "* To simulate a random roll of a single die, I use the `integers()` function from `numpy.random` package.\n",
    "* On every iteration of the outer loop (n dice rolls), the inner loop runs k times (no. of dice)\n",
    "* The results of each iteration of the inner loop are appended to list l (initialised as an empty list within the function)\n",
    "* I use the function from Task 1 (above) to add each list item to dictionary d (initialised as an empty dictionary within the function)\n",
    "* The function returns a sorted dictionary. I found the code for this on a discussion on stackoverflow.com [2]\n",
    "* I call the `dicerolls()` 4 times. First with 2 dice, then 3, 4 and 5. The dice are rolled 100,000 times on each functon call. \n",
    "<br>\n",
    "\n",
    "##### Plotting the output\n",
    "* I plot the output of each function call on a separate bar charts. To plot a dictionary on a bar chart, I used code found on a stackoverflow.com discussion [3].\n",
    "* I used the matplotlib documentation to plot 4 subplots on a single figure [4].\n",
    "* From observation of the bar charts, it is clear that the results are normally distributed, with the curve becoming increasingly rounded the more dice are thrown.\n",
    "\n",
    "\n",
    "\n"
   ]
  },
  {
   "cell_type": "markdown",
   "metadata": {},
   "source": [
    "<br>\n",
    "\n",
    "### References\n",
    "[1] w3schools; Python Nested Loops; https://www.w3schools.com/python/gloss_python_for_nested.asp <br>\n",
    "[2] https://stackoverflow.com/questions/9001509/how-can-i-sort-a-dictionary-by-key%22 <br>\n",
    "[3] https://stackoverflow.com/questions/21195179/plot-a-histogram-from-a-dictionary <br>\n",
    "[4] Pyplot tutorial; intro to pyplot; https://matplotlib.org/tutorials/introductory/pyplot.html<br>"
   ]
  },
  {
   "cell_type": "markdown",
   "metadata": {},
   "source": [
    "<br>\n",
    "\n",
    "#### Build function and run simulation"
   ]
  },
  {
   "cell_type": "code",
   "execution_count": 4,
   "metadata": {},
   "outputs": [],
   "source": [
    "# import default_rng for random number generation, matplotlib.pyplot for visualisation\n",
    "from numpy.random import default_rng\n",
    "import matplotlib.pyplot as plt"
   ]
  },
  {
   "cell_type": "code",
   "execution_count": 5,
   "metadata": {},
   "outputs": [],
   "source": [
    "# construct a new Generator object\n",
    "rng = default_rng()"
   ]
  },
  {
   "cell_type": "code",
   "execution_count": 6,
   "metadata": {},
   "outputs": [],
   "source": [
    "'''\n",
    "This function simulates the rolling of k=int dice, n=int times\n",
    "'''\n",
    "\n",
    "def dicerolls(k, n):\n",
    "    l = [] # initialise empty list\n",
    "    d = {} # initialise empty dict\n",
    "    for roll in range(n): # outer loop simulates no. of times dice are rolled\n",
    "        dice_sum = 0 # dice_sum counter set to 0\n",
    "        for die in range(k): # inner loop simulates each of k dice thrown at random\n",
    "            dice = rng.integers(1, 7)\n",
    "            dice_sum += dice # face value of each dice added together\n",
    "        l.append(dice_sum) \n",
    "    d = counts(l) # function from Task 1 called\n",
    "    return dict(sorted(d.items()))"
   ]
  },
  {
   "cell_type": "code",
   "execution_count": 7,
   "metadata": {},
   "outputs": [
    {
     "data": {
      "text/plain": [
       "{2: 2727,\n",
       " 3: 5509,\n",
       " 4: 8330,\n",
       " 5: 11066,\n",
       " 6: 13735,\n",
       " 7: 16857,\n",
       " 8: 13858,\n",
       " 9: 11066,\n",
       " 10: 8474,\n",
       " 11: 5583,\n",
       " 12: 2795}"
      ]
     },
     "execution_count": 7,
     "metadata": {},
     "output_type": "execute_result"
    }
   ],
   "source": [
    "# 2 dice rolled 100,000 times and dictionary output\n",
    "two_dice = dicerolls(2, 100000)\n",
    "two_dice"
   ]
  },
  {
   "cell_type": "markdown",
   "metadata": {},
   "source": [
    "<br>\n",
    "\n",
    "#### Plot output: Different values for k (number of dice)"
   ]
  },
  {
   "cell_type": "code",
   "execution_count": 8,
   "metadata": {},
   "outputs": [
    {
     "data": {
      "text/plain": [
       "Text(0.5, 1.0, '5 dice')"
      ]
     },
     "execution_count": 8,
     "metadata": {},
     "output_type": "execute_result"
    },
    {
     "data": {
      "image/png": "[encoded data removed]",
      "text/plain": [
       "<Figure size 720x504 with 4 Axes>"
      ]
     },
     "metadata": {
      "needs_background": "light"
     },
     "output_type": "display_data"
    }
   ],
   "source": [
    "# plot 4 subplots on a single figure for better visualisation comparison\n",
    "plt.figure(figsize=(10, 7))\n",
    "\n",
    "# plot bar chart for 2 dice rolled\n",
    "plt.subplot(221)\n",
    "plt.bar(list(two_dice.keys()), two_dice.values())\n",
    "plt.title('2 dice')\n",
    "\n",
    "# plot bar chart for 3 dice rolled\n",
    "three_dice = dicerolls(3, 100000)\n",
    "plt.subplot(222)\n",
    "plt.bar(list(three_dice.keys()), three_dice.values())\n",
    "plt.title('3 dice')\n",
    "\n",
    "# plot bar chart for 4 dice rolled\n",
    "four_dice = dicerolls(4, 100000)\n",
    "plt.subplot(223)\n",
    "plt.bar(list(four_dice.keys()), four_dice.values())\n",
    "plt.title('4 dice')\n",
    "\n",
    "# plot bar chart for 5 dice rolled\n",
    "five_dice = dicerolls(5, 100000)\n",
    "plt.subplot(224)\n",
    "plt.bar(list(five_dice.keys()), five_dice.values())\n",
    "plt.title('5 dice')"
   ]
  },
  {
   "cell_type": "markdown",
   "metadata": {},
   "source": [
    "##### Note the increased roundedness of the curve the more dice are thrown. All 4 have the appearance of a normal distribution.\n",
    "\n",
    "<br>"
   ]
  },
  {
   "cell_type": "markdown",
   "metadata": {},
   "source": [
    "#### End task 2\n",
    "***"
   ]
  },
  {
   "cell_type": "markdown",
   "metadata": {},
   "source": [
    "<br>\n",
    "\n"
   ]
  },
  {
   "cell_type": "markdown",
   "metadata": {},
   "source": [
    "### Task 3\n",
    "\n",
    "Write some python code that simulates flipping a coin 100 times. Then run this code 1,000 times, keeping track of the  number of heads in each of the 1,000 simulations. Select an appropriate plot to depict the resulting list of 1,000 numbers, showing that it roughly follows a bell-shaped curve. Use the `numpy.random.binomial` function to generate the simulation.\n",
    "\n",
    "* To demonstrate the binomial distribution in practical terms, the coin toss example is often used [1], [2], [3]. \n",
    "* The coin toss is also an example of a Bernoulli trial. This is a single trial from which there are exactly two possible outcomes, usually denoted as 'success' or 'failure'. [4]\n",
    "* When we toss a fair coin, there are only two possible outcomes - heads or tails - and each outcome has an equal probability (p=0.5) of arising. \n",
    "* If we say that 'heads' denotes a 'success', we can perform the coin toss n number of times, counting the number of successes we observe. This number will have a binomial distribution.\n",
    "* Using rng.binomial below, I simulate the coin toss and plot the resulting distribution on a histogram. The bell shaped curve is evident.\n",
    "* There are 100 trials (n=100), with a 50% probability of success (p=0.5). This is performed 1,000 times.\n",
    "\n",
    "<br>\n",
    "\n",
    "### References\n",
    "[1] Hamel, Greg; Python for Data 22: Probability Distributions; https://www.kaggle.com/hamelg/python-for-data-22-probability-distributions <br>\n",
    "[2] onlinestatsbook.com; Binomial Distribution; http://onlinestatbook.com/2/probability/binomial.html <br>\n",
    "[3] Wikipedia; Bernoulli Trial; https://en.wikipedia.org/wiki/Bernoulli_trial<br>\n",
    "[4] *Ibid* <br>"
   ]
  },
  {
   "cell_type": "code",
   "execution_count": 9,
   "metadata": {},
   "outputs": [],
   "source": [
    "# construct a new Generator object\n",
    "rng = default_rng()"
   ]
  },
  {
   "cell_type": "code",
   "execution_count": 10,
   "metadata": {},
   "outputs": [],
   "source": [
    "n, p = 100, .5  # number of trials, probability of each trial\n",
    "unbiased_coin = rng.binomial(n, p, 10000) # result of tossing a coin 10 times, tested 1000 times."
   ]
  },
  {
   "cell_type": "code",
   "execution_count": 11,
   "metadata": {},
   "outputs": [
    {
     "data": {
      "image/png": "[encoded data removed]",
      "text/plain": [
       "<Figure size 432x288 with 1 Axes>"
      ]
     },
     "metadata": {
      "needs_background": "light"
     },
     "output_type": "display_data"
    }
   ],
   "source": [
    "plt.hist(unbiased_coin, color='green')\n",
    "plt.title(\"unbiased coin\")\n",
    "plt.show()"
   ]
  },
  {
   "cell_type": "markdown",
   "metadata": {},
   "source": [
    "This has the appearance of a normal distribution (explored below). If the probability of success is changed however (i.e. we add a bias to the coin), we observe a change in the shape of the distribution - it becomes asymmetrical:"
   ]
  },
  {
   "cell_type": "code",
   "execution_count": 12,
   "metadata": {},
   "outputs": [],
   "source": [
    "n, p = 100, .9  # number of trials, probability of success\n",
    "biased_coin = rng.binomial(n, p, 10000) # result of tossing a coin 10 times, tested 10000 times."
   ]
  },
  {
   "cell_type": "code",
   "execution_count": 13,
   "metadata": {},
   "outputs": [
    {
     "data": {
      "image/png": "[encoded data removed]",
      "text/plain": [
       "<Figure size 432x288 with 1 Axes>"
      ]
     },
     "metadata": {
      "needs_background": "light"
     },
     "output_type": "display_data"
    }
   ],
   "source": [
    "plt.hist(biased_coin, color='green')\n",
    "plt.title(\"biased coin\")\n",
    "plt.show()"
   ]
  },
  {
   "cell_type": "markdown",
   "metadata": {},
   "source": [
    "#### End task 3\n",
    "***\n"
   ]
  },
  {
   "cell_type": "markdown",
   "metadata": {},
   "source": [
    "<br>\n",
    "\n"
   ]
  },
  {
   "cell_type": "markdown",
   "metadata": {},
   "source": [
    "### Task 4\n",
    "\n",
    "Use numpy to create four data sets, each with an `x` array and  a  corresponding `y` array,  to  demonstrate  Simpson’s  paradox. You might create  your `x` arrays using `numpy.linspace` and  create  the `y` array  for  each `x` using notation like `y = a * x + b` where you choose the `a` and `b` for each `x`, `y` pair to demonstrate the paradox. You might see the Wikipedia page for Simpson’s paradox for inspiration."
   ]
  },
  {
   "cell_type": "markdown",
   "metadata": {},
   "source": [
    "<br>\n",
    "\n"
   ]
  },
  {
   "cell_type": "markdown",
   "metadata": {},
   "source": [
    "Simpson's Paradox is a phenomenon in statistics whereby seemingly contradictory trends are observed within the same data set, depending on how the data set is analysed. For example, the data may be split into four smaller groups and within each of these groups, a positive trend is observed. However when taken in aggregate, the overall trend is seen to be negative [1].\n",
    "\n",
    "<br>\n",
    "\n",
    "In order to demonstrate this phenomenon I have generated four data sets below, using `numpy.linspace`. I then plot these data sets on a graph for visualisation. \n",
    "\n",
    "\n",
    "[1] wikipedia.org; Simpson's Paradox; https://en.wikipedia.org/wiki/Simpson%27s_paradox <br>"
   ]
  },
  {
   "cell_type": "markdown",
   "metadata": {},
   "source": [
    "<br>\n",
    "\n"
   ]
  },
  {
   "cell_type": "markdown",
   "metadata": {},
   "source": [
    "First, I import `numpy` and `matplotlib.pylot` for data set generation and subsequent visualisation respectively:"
   ]
  },
  {
   "cell_type": "code",
   "execution_count": 14,
   "metadata": {},
   "outputs": [],
   "source": [
    "import numpy as np\n",
    "import matplotlib.pyplot as plt"
   ]
  },
  {
   "cell_type": "markdown",
   "metadata": {},
   "source": [
    "<br>\n",
    "\n"
   ]
  },
  {
   "cell_type": "markdown",
   "metadata": {},
   "source": [
    "Next, I generate four data sets of equal sample size (20). The coordinates for the x values and the corresponding y values have been intentionally chosen to so that each individual data set will show a positive trend. When plotted on a graph (below), Simpson's paradox can be visualised and thus understood intuitively. There are many examples of such visualisations which guided the selection of values for my data sets [2], [3], [4]. The `linspace` function generates the x array while the corresponding y array is populated using the formula `a * x + b` as suggested in the task brief. I have added the function `numpy.radnom.randn` to the formula in order to closer simulate the random nature of reality. I use code found on a discussion on stackoverflow.com for this [5].\n",
    "\n",
    "<br>\n",
    "\n",
    "\n",
    "[2] Kievit, R. A.; Simpson's Paradox in Psychological Science: A Practical Guide; https://www.researchgate.net/figure/Alcohol-use-and-intelligence-Simulated-data-illustrating-that-despite-a-positive_fig2_256074671 <br>\n",
    "[3] stackexchange.com; Examples of Simpson's Paradox being resolved by choosing the aggregate data; https://stats.stackexchange.com/questions/478463/examples-of-simpsons-paradox-being-resolved-by-choosing-the-aggregate-data <br>\n",
    "[4] wikipedia.org; Simpson's Paradox; https://en.wikipedia.org/wiki/Simpson%27s_paradox <br>\n",
    "[5] stackoverflow.com; Linear regression minimizing errors only above the linear; https://stackoverflow.com/questions/58090204/linear-regression-minimizing-errors-only-above-the-linear <br>"
   ]
  },
  {
   "cell_type": "code",
   "execution_count": 85,
   "metadata": {},
   "outputs": [],
   "source": [
    "# Assign values for a and b\n",
    "a = 1\n",
    "b = 20\n",
    "\n",
    "# Generate an x array using the numpy.linspace function\n",
    "x = np.linspace(3, 7, 20)\n",
    "\n",
    "# Calculate corresponding y values\n",
    "y = a * x + b + np.random.randn(*x.shape)"
   ]
  },
  {
   "cell_type": "code",
   "execution_count": 86,
   "metadata": {},
   "outputs": [],
   "source": [
    "b = 15\n",
    "\n",
    "x2 = np.linspace(5, 12, 20)\n",
    "y2 = a * x + b + np.random.randn(*x2.shape)"
   ]
  },
  {
   "cell_type": "code",
   "execution_count": 82,
   "metadata": {},
   "outputs": [],
   "source": [
    "b = 10\n",
    "\n",
    "x3 = np.linspace(7, 17, 20)\n",
    "y3 = a * x + b + np.random.randn(*x3.shape)"
   ]
  },
  {
   "cell_type": "code",
   "execution_count": 83,
   "metadata": {},
   "outputs": [],
   "source": [
    "b = 5\n",
    "\n",
    "x4 = np.linspace(9, 22, 20)\n",
    "y4 = a * x + b + np.random.randn(*x4.shape)"
   ]
  },
  {
   "cell_type": "markdown",
   "metadata": {},
   "source": [
    "<br>\n",
    "\n"
   ]
  },
  {
   "cell_type": "markdown",
   "metadata": {},
   "source": [
    "When we visualise the data on a scatter plot, we observe a positive trend in each of the four data sets separately, while there is a clearly observable negative trend in the overall relationship between the variables if we take the data in aggregate. To plot each data set on the same graph, I used code found in a discussion on stackoverflow.com [6].\n",
    "\n",
    "<br>\n",
    "\n",
    "### References\n",
    "[6] stackoverflow.com; MatPlotLib: Multiple datasets on the same scatter plot; https://stackoverflow.com/questions/4270301/matplotlib-multiple-datasets-on-the-same-scatter-plot <br>"
   ]
  },
  {
   "cell_type": "code",
   "execution_count": 96,
   "metadata": {},
   "outputs": [
    {
     "data": {
      "image/png": "[encoded data removed]",
      "text/plain": [
       "<Figure size 432x288 with 1 Axes>"
      ]
     },
     "metadata": {
      "needs_background": "light"
     },
     "output_type": "display_data"
    }
   ],
   "source": [
    "fig = plt.figure()\n",
    "ax1 = fig.add_subplot(111)\n",
    "\n",
    "ax1.scatter(x, y, s=10, c='b', marker=\"s\", label='x')\n",
    "ax1.scatter(x2 ,y2 , s=10, c='r', marker=\"o\", label='x2')\n",
    "ax1.scatter(x3, y3, s=10, c='g', marker=\"x\", label='x3')\n",
    "ax1.scatter(x4 ,y4 , s=10, c='y', marker=\"o\", label='x4')\n",
    "plt.xlim(-5, 30)\n",
    "plt.ylim(0, 40)\n",
    "plt.legend(loc='upper right');\n",
    "plt.show()"
   ]
  },
  {
   "cell_type": "code",
   "execution_count": null,
   "metadata": {},
   "outputs": [],
   "source": []
  },
  {
   "cell_type": "markdown",
   "metadata": {},
   "source": []
  }
 ],
 "metadata": {
  "kernelspec": {
   "display_name": "Python 3",
   "language": "python",
   "name": "python3"
  },
  "language_info": {
   "codemirror_mode": {
    "name": "ipython",
    "version": 3
   },
   "file_extension": ".py",
   "mimetype": "text/x-python",
   "name": "python",
   "nbconvert_exporter": "python",
   "pygments_lexer": "ipython3",
   "version": "3.8.3"
  }
 },
 "nbformat": 4,
 "nbformat_minor": 4
}
